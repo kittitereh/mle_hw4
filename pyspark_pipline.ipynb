{
 "cells": [
  {
   "cell_type": "code",
   "execution_count": 62,
   "id": "4b99feff",
   "metadata": {},
   "outputs": [],
   "source": [
    "from pyspark import SparkContext, SparkConf\n",
    "from pyspark.sql import SparkSession\n",
    "from pyspark.sql.types import StructType, StructField\n",
    "from pyspark.sql.types import DoubleType, IntegerType, StringType\n",
    "from pyspark.ml import Pipeline\n",
    "from pyspark.sql import SQLContext\n",
    "from pyspark.ml.feature import HashingTF, IDF, Tokenizer\n",
    "import pyspark.sql.functions as psf\n",
    "import json\n"
   ]
  },
  {
   "cell_type": "code",
   "execution_count": 2,
   "id": "63e6fbdd",
   "metadata": {},
   "outputs": [],
   "source": [
    "from pyspark.ml.linalg import Vectors\n",
    "from pyspark.ml.feature import VectorAssembler"
   ]
  },
  {
   "cell_type": "code",
   "execution_count": 15,
   "id": "dabad845",
   "metadata": {},
   "outputs": [],
   "source": [
    "from pyspark.ml.classification import MultilayerPerceptronClassifier, RandomForestClassifier, LogisticRegression\n",
    "from pyspark.ml.regression import LinearRegression\n",
    "from pyspark.ml.evaluation import MulticlassClassificationEvaluator\n",
    "from sklearn.metrics import classification_report, confusion_matrix\n",
    "import numpy as np\n"
   ]
  },
  {
   "cell_type": "code",
   "execution_count": 6,
   "id": "9777f2c0",
   "metadata": {},
   "outputs": [
    {
     "name": "stdout",
     "output_type": "stream",
     "text": [
      "23/02/20 04:20:59 WARN Utils: Service 'SparkUI' could not bind on port 4040. Attempting port 4041.\n"
     ]
    }
   ],
   "source": [
    "conf = SparkConf().setMaster(\"local[*]\").setAppName(\"Pipeline\")\n",
    "sc = SparkContext(conf=conf)"
   ]
  },
  {
   "cell_type": "code",
   "execution_count": 8,
   "id": "7b8ed73e",
   "metadata": {},
   "outputs": [],
   "source": [
    "spark = SparkSession(sc)"
   ]
  },
  {
   "cell_type": "code",
   "execution_count": 10,
   "id": "1e30644e",
   "metadata": {},
   "outputs": [
    {
     "name": "stderr",
     "output_type": "stream",
     "text": [
      "                                                                                \r"
     ]
    },
    {
     "data": {
      "text/plain": [
       "Row(pnns_groups_1='unknown', energy-kcal_100g=262.0, energy_100g=1096.0, fat_100g=5.95, saturated-fat_100g=1.19, carbohydrates_100g=66.67, sugars_100g=2.38, proteins_100g=16.67, salt_100g=0.0254, sodium_100g=0.01016, features='[262.0,1096.0,5.95,1.19,66.67,2.38,16.67,0.0254,0.01016]', scaled='[1.2244022416191034,1.221596966594334,0.33185536610089694,0.12775740095740562,2.0120978340997655,0.12620272315593636,1.4036102016282366,0.0009370690717162629,0.0009370609642839143]', prediction=1)"
      ]
     },
     "execution_count": 10,
     "metadata": {},
     "output_type": "execute_result"
    }
   ],
   "source": [
    "data = spark.read.csv('./predictions.csv',header=True,inferSchema=True)\n",
    "data.head()"
   ]
  },
  {
   "cell_type": "code",
   "execution_count": 11,
   "id": "864f5c54",
   "metadata": {},
   "outputs": [
    {
     "name": "stdout",
     "output_type": "stream",
     "text": [
      "root\n",
      " |-- pnns_groups_1: string (nullable = true)\n",
      " |-- energy-kcal_100g: double (nullable = true)\n",
      " |-- energy_100g: double (nullable = true)\n",
      " |-- fat_100g: double (nullable = true)\n",
      " |-- saturated-fat_100g: double (nullable = true)\n",
      " |-- carbohydrates_100g: double (nullable = true)\n",
      " |-- sugars_100g: double (nullable = true)\n",
      " |-- proteins_100g: double (nullable = true)\n",
      " |-- salt_100g: double (nullable = true)\n",
      " |-- sodium_100g: double (nullable = true)\n",
      " |-- features: string (nullable = true)\n",
      " |-- scaled: string (nullable = true)\n",
      " |-- prediction: integer (nullable = true)\n",
      "\n"
     ]
    }
   ],
   "source": [
    "data.printSchema()"
   ]
  },
  {
   "cell_type": "code",
   "execution_count": 24,
   "id": "d6f44814",
   "metadata": {},
   "outputs": [],
   "source": [
    "columns_to_drop = ['features', 'scaled']\n",
    "data = data.drop(*columns_to_drop)"
   ]
  },
  {
   "cell_type": "code",
   "execution_count": 25,
   "id": "eeecab62",
   "metadata": {},
   "outputs": [],
   "source": [
    "features = ['energy-kcal_100g',\n",
    " 'energy_100g',\n",
    " 'fat_100g',\n",
    " 'saturated-fat_100g',\n",
    " 'carbohydrates_100g',\n",
    " 'sugars_100g',\n",
    " 'proteins_100g',\n",
    " 'salt_100g',\n",
    " 'sodium_100g']"
   ]
  },
  {
   "cell_type": "markdown",
   "id": "8cdfcbd1",
   "metadata": {},
   "source": [
    "### Assembler"
   ]
  },
  {
   "cell_type": "code",
   "execution_count": 28,
   "id": "c2fdc077",
   "metadata": {},
   "outputs": [
    {
     "name": "stdout",
     "output_type": "stream",
     "text": [
      "+--------------+----------------+-----------+---------------+------------------+------------------+-----------+---------------+---------------+----------------+----------+--------------------+\n",
      "| pnns_groups_1|energy-kcal_100g|energy_100g|       fat_100g|saturated-fat_100g|carbohydrates_100g|sugars_100g|  proteins_100g|      salt_100g|     sodium_100g|prediction|            features|\n",
      "+--------------+----------------+-----------+---------------+------------------+------------------+-----------+---------------+---------------+----------------+----------+--------------------+\n",
      "|       unknown|           262.0|     1096.0|           5.95|              1.19|             66.67|       2.38|          16.67|         0.0254|         0.01016|         1|[262.0,1096.0,5.9...|\n",
      "|       unknown|             1.0|        4.0|            1.0|               1.0|               1.0|        1.0|            1.0|            1.0|             0.4|         8|[1.0,4.0,1.0,1.0,...|\n",
      "|       unknown|           277.0|     1159.0|           17.8|              11.6|              19.9|        1.7|            8.7|            0.5|             0.2|         0|[277.0,1159.0,17....|\n",
      "|Fat and sauces|           657.0|     2749.0|64.599998474121|              10.0|   12.199999809265|        1.0|5.8000001907349|2.4000000953674|0.96000003814696|         7|[657.0,2749.0,64....|\n",
      "|       unknown|           500.0|     2092.0|           31.2|              19.3|              58.9|       58.9|            6.8|           0.99|           0.396|        10|[500.0,2092.0,31....|\n",
      "+--------------+----------------+-----------+---------------+------------------+------------------+-----------+---------------+---------------+----------------+----------+--------------------+\n",
      "only showing top 5 rows\n",
      "\n"
     ]
    }
   ],
   "source": [
    "assemble = VectorAssembler(inputCols=features, outputCol='features')\n",
    "assembled_data = assemble.setHandleInvalid(\"skip\").transform(data)\n",
    "assembled_data.show(5)"
   ]
  },
  {
   "cell_type": "markdown",
   "id": "25b95d1a",
   "metadata": {},
   "source": [
    "### Scaler"
   ]
  },
  {
   "cell_type": "code",
   "execution_count": 29,
   "id": "badade23",
   "metadata": {},
   "outputs": [
    {
     "name": "stderr",
     "output_type": "stream",
     "text": [
      "                                                                                \r"
     ]
    },
    {
     "name": "stdout",
     "output_type": "stream",
     "text": [
      "+--------------+----------------+-----------+---------------+------------------+------------------+-----------+---------------+---------------+----------------+----------+--------------------+--------------------+\n",
      "| pnns_groups_1|energy-kcal_100g|energy_100g|       fat_100g|saturated-fat_100g|carbohydrates_100g|sugars_100g|  proteins_100g|      salt_100g|     sodium_100g|prediction|            features|              scaled|\n",
      "+--------------+----------------+-----------+---------------+------------------+------------------+-----------+---------------+---------------+----------------+----------+--------------------+--------------------+\n",
      "|       unknown|           262.0|     1096.0|           5.95|              1.19|             66.67|       2.38|          16.67|         0.0254|         0.01016|         1|[262.0,1096.0,5.9...|[1.22440224161910...|\n",
      "|       unknown|             1.0|        4.0|            1.0|               1.0|               1.0|        1.0|            1.0|            1.0|             0.4|         8|[1.0,4.0,1.0,1.0,...|[0.00467329099854...|\n",
      "|       unknown|           277.0|     1159.0|           17.8|              11.6|              19.9|        1.7|            8.7|            0.5|             0.2|         0|[277.0,1159.0,17....|[1.29450160659729...|\n",
      "|Fat and sauces|           657.0|     2749.0|64.599998474121|              10.0|   12.199999809265|        1.0|5.8000001907349|2.4000000953674|0.96000003814696|         7|[657.0,2749.0,64....|[3.07035218604484...|\n",
      "|       unknown|           500.0|     2092.0|           31.2|              19.3|              58.9|       58.9|            6.8|           0.99|           0.396|        10|[500.0,2092.0,31....|[2.33664549927309...|\n",
      "+--------------+----------------+-----------+---------------+------------------+------------------+-----------+---------------+---------------+----------------+----------+--------------------+--------------------+\n",
      "only showing top 5 rows\n",
      "\n"
     ]
    }
   ],
   "source": [
    "from pyspark.ml.feature import StandardScaler\n",
    "\n",
    "scale=StandardScaler(inputCol='features',outputCol='scaled')\n",
    "scaled=scale.fit(assembled_data)\n",
    "data_scaled=scaled.transform(assembled_data)\n",
    "data_scaled.show(5)"
   ]
  },
  {
   "cell_type": "code",
   "execution_count": 49,
   "id": "492ad337",
   "metadata": {},
   "outputs": [
    {
     "name": "stdout",
     "output_type": "stream",
     "text": [
      "+--------------------+----------+\n",
      "|              scaled|prediction|\n",
      "+--------------------+----------+\n",
      "|[1.22440224161910...|         1|\n",
      "|[0.00467329099854...|         8|\n",
      "|[1.29450160659729...|         0|\n",
      "|[3.07035218604484...|         7|\n",
      "|[2.33664549927309...|        10|\n",
      "|[0.59818124781391...|         8|\n",
      "|[3.25261053498814...|        10|\n",
      "|[2.33664549927309...|        10|\n",
      "|[0.12150556596220...|         8|\n",
      "|[1.31786806159002...|         1|\n",
      "|[1.90670272740684...|         4|\n",
      "|[0.78511288775575...|         0|\n",
      "|[0.29909062390695...|         8|\n",
      "|[0.78043959675721...|         0|\n",
      "|[0.75707314176448...|         0|\n",
      "|(9,[0,1,2,3],[3.8...|         7|\n",
      "|[0.47667568185171...|         8|\n",
      "|[0.00918301681214...|         8|\n",
      "|[1.23374882361619...|         0|\n",
      "|[0.79913276075139...|         0|\n",
      "+--------------------+----------+\n",
      "only showing top 20 rows\n",
      "\n"
     ]
    }
   ],
   "source": [
    "cols = [\"scaled\", \"prediction\"]\n",
    "scaled_data = data_scaled.select(*cols)\n",
    "scaled_data.show()"
   ]
  },
  {
   "cell_type": "code",
   "execution_count": 131,
   "id": "b277cee6",
   "metadata": {},
   "outputs": [],
   "source": [
    "scaled_data1 = scaled_data.withColumnRenamed(\"prediction\",\"claster_pred\")"
   ]
  },
  {
   "cell_type": "markdown",
   "id": "1f6a71d5",
   "metadata": {},
   "source": [
    "### Train test split"
   ]
  },
  {
   "cell_type": "code",
   "execution_count": 163,
   "id": "ac25d47f",
   "metadata": {},
   "outputs": [],
   "source": [
    "train_df, test_df = scaled_data1.randomSplit(weights = [0.70, 0.30], seed = 42)"
   ]
  },
  {
   "cell_type": "markdown",
   "id": "63f689ea",
   "metadata": {},
   "source": [
    "### Linear Regression"
   ]
  },
  {
   "cell_type": "code",
   "execution_count": 52,
   "id": "e111fe01",
   "metadata": {},
   "outputs": [
    {
     "name": "stderr",
     "output_type": "stream",
     "text": [
      "[Stage 14:========>                                                 (1 + 6) / 7]\r"
     ]
    },
    {
     "name": "stdout",
     "output_type": "stream",
     "text": [
      "Coefficients: [0.0,0.0,0.0,0.20661328494098719,-0.9337943226826309,0.4809977959575168,-0.9812505620845295,0.0,0.0]\n",
      "Intercept: 5.620065216775463\n"
     ]
    },
    {
     "name": "stderr",
     "output_type": "stream",
     "text": [
      "\r",
      "                                                                                \r"
     ]
    }
   ],
   "source": [
    "from pyspark.ml.regression import LinearRegression\n",
    "\n",
    "lr = LinearRegression(featuresCol = 'scaled', labelCol='claster_pred', maxIter=10, regParam=0.3, elasticNetParam=0.8)\n",
    "lr_model = lr.fit(train_df)\n",
    "print(\"Coefficients: \" + str(lr_model.coefficients))\n",
    "print(\"Intercept: \" + str(lr_model.intercept))"
   ]
  },
  {
   "cell_type": "code",
   "execution_count": 88,
   "id": "811d215b",
   "metadata": {},
   "outputs": [
    {
     "name": "stdout",
     "output_type": "stream",
     "text": [
      "RMSE: 3.391814\n",
      "r2: 0.162539\n"
     ]
    }
   ],
   "source": [
    "trainingSummary = lr_model.summary\n",
    "print(\"RMSE: %f\" % trainingSummary.rootMeanSquaredError)\n",
    "print(\"r2: %f\" % trainingSummary.r2)"
   ]
  },
  {
   "cell_type": "code",
   "execution_count": 54,
   "id": "febe4700",
   "metadata": {},
   "outputs": [
    {
     "name": "stdout",
     "output_type": "stream",
     "text": [
      "+-------+------------------+\n",
      "|summary|      claster_pred|\n",
      "+-------+------------------+\n",
      "|  count|             63186|\n",
      "|   mean| 4.511964675719305|\n",
      "| stddev|3.7064080598262974|\n",
      "|    min|                 0|\n",
      "|    max|                10|\n",
      "+-------+------------------+\n",
      "\n"
     ]
    },
    {
     "name": "stderr",
     "output_type": "stream",
     "text": [
      "\r",
      "[Stage 16:=========================================>                (5 + 2) / 7]\r",
      "\r",
      "                                                                                \r"
     ]
    }
   ],
   "source": [
    "# сравним rmse со средним значением \n",
    "train_df.describe().show()"
   ]
  },
  {
   "cell_type": "code",
   "execution_count": 94,
   "id": "4a0fb355",
   "metadata": {},
   "outputs": [],
   "source": [
    "lr_test = lr.fit(test_df)"
   ]
  },
  {
   "cell_type": "code",
   "execution_count": 95,
   "id": "841ccb28",
   "metadata": {},
   "outputs": [
    {
     "name": "stdout",
     "output_type": "stream",
     "text": [
      "Coefficients: [-0.16536874395307402,-0.2884764828704084,0.0,0.6537064057109185,0.0,0.21076927648701324,-0.32996206870761613,0.0,0.0]\n",
      "Intercept: 4.858754927541659\n"
     ]
    }
   ],
   "source": [
    "print(\"Coefficients: \" + str(lr_test.coefficients))\n",
    "print(\"Intercept: \" + str(lr_test.intercept))"
   ]
  },
  {
   "cell_type": "code",
   "execution_count": 96,
   "id": "4f972804",
   "metadata": {},
   "outputs": [
    {
     "name": "stdout",
     "output_type": "stream",
     "text": [
      "RMSE: 3.545943\n",
      "r2: 0.088153\n"
     ]
    }
   ],
   "source": [
    "trainingSummary_test = lr_test.summary\n",
    "print(\"RMSE: %f\" % trainingSummary_test.rootMeanSquaredError)\n",
    "print(\"r2: %f\" % trainingSummary_test.r2)"
   ]
  },
  {
   "cell_type": "markdown",
   "id": "4f02e441",
   "metadata": {},
   "source": [
    "### Random Forest"
   ]
  },
  {
   "cell_type": "code",
   "execution_count": 98,
   "id": "1ae6c244",
   "metadata": {},
   "outputs": [],
   "source": [
    "RandomForest = RandomForestClassifier(labelCol=\"claster_pred\", featuresCol=\"scaled\",\n",
    "                        predictionCol='rand_prediction', numTrees=20, maxDepth=3)"
   ]
  },
  {
   "cell_type": "code",
   "execution_count": 100,
   "id": "a5f74b35",
   "metadata": {},
   "outputs": [
    {
     "name": "stderr",
     "output_type": "stream",
     "text": [
      "                                                                                \r"
     ]
    }
   ],
   "source": [
    "model_rand = RandomForest.fit(train_df)"
   ]
  },
  {
   "cell_type": "code",
   "execution_count": 102,
   "id": "57ca8ee3",
   "metadata": {},
   "outputs": [],
   "source": [
    "predictions_rand = model_rand.transform(test_df)"
   ]
  },
  {
   "cell_type": "code",
   "execution_count": 118,
   "id": "69b328b6",
   "metadata": {},
   "outputs": [
    {
     "name": "stdout",
     "output_type": "stream",
     "text": [
      "Test Error = 0.135688\n"
     ]
    }
   ],
   "source": [
    "# Select (prediction, true label) and compute test error\n",
    "evaluator_acc = MulticlassClassificationEvaluator(\n",
    "    labelCol=\"claster_pred\", predictionCol=\"rand_prediction\", metricName=\"accuracy\")\n",
    "accuracy = evaluator.evaluate(predictions_rand)\n",
    "print(\"Test Error = %g\" % (1.0 - accuracy))"
   ]
  },
  {
   "cell_type": "code",
   "execution_count": 110,
   "id": "e42a800b",
   "metadata": {},
   "outputs": [
    {
     "name": "stdout",
     "output_type": "stream",
     "text": [
      "Precision = 0.8643117153257559 \n"
     ]
    }
   ],
   "source": [
    "evaluator_pr = MulticlassClassificationEvaluator(\n",
    "    labelCol=\"claster_pred\", predictionCol=\"rand_prediction\", metricName=\"precision\")\n",
    "precision = evaluator.evaluate(predictions_rand)\n",
    "print(f\"Precision = {precision} \")"
   ]
  },
  {
   "cell_type": "code",
   "execution_count": 151,
   "id": "ffb1a96b",
   "metadata": {},
   "outputs": [
    {
     "name": "stdout",
     "output_type": "stream",
     "text": [
      "+---------+------------+\n",
      "|   scaled|claster_pred|\n",
      "+---------+------------+\n",
      "|(9,[],[])|           8|\n",
      "|(9,[],[])|           8|\n",
      "|(9,[],[])|           8|\n",
      "|(9,[],[])|           8|\n",
      "|(9,[],[])|           8|\n",
      "|(9,[],[])|           8|\n",
      "|(9,[],[])|           8|\n",
      "|(9,[],[])|           8|\n",
      "|(9,[],[])|           8|\n",
      "|(9,[],[])|           8|\n",
      "|(9,[],[])|           8|\n",
      "|(9,[],[])|           8|\n",
      "|(9,[],[])|           8|\n",
      "|(9,[],[])|           8|\n",
      "|(9,[],[])|           8|\n",
      "|(9,[],[])|           8|\n",
      "|(9,[],[])|           8|\n",
      "|(9,[],[])|           8|\n",
      "|(9,[],[])|           8|\n",
      "|(9,[],[])|           8|\n",
      "+---------+------------+\n",
      "only showing top 20 rows\n",
      "\n"
     ]
    }
   ],
   "source": [
    "train_df.show()"
   ]
  },
  {
   "cell_type": "markdown",
   "id": "7419a5ec",
   "metadata": {},
   "source": [
    "### Logistic Regression"
   ]
  },
  {
   "cell_type": "code",
   "execution_count": 154,
   "id": "08f284ad",
   "metadata": {},
   "outputs": [],
   "source": [
    "log_reg = LogisticRegression(featuresCol = 'scaled', labelCol = 'claster_pred', maxIter=10)\n",
    "lrModel = log_reg.fit(train_df)"
   ]
  },
  {
   "cell_type": "markdown",
   "id": "ecfdb479",
   "metadata": {},
   "source": [
    "### Metrics"
   ]
  },
  {
   "cell_type": "code",
   "execution_count": null,
   "id": "92936c97",
   "metadata": {},
   "outputs": [],
   "source": [
    "from pyspark.ml.clustering import KMeans\n",
    "from pyspark.ml.evaluation import ClusteringEvaluator\n",
    "\n",
    "# Силуэтные оценки для разного количества кластеров\n",
    "silhouette_score=[]\n",
    "evaluator = ClusteringEvaluator(predictionCol='prediction', featuresCol='scaled', \\\n",
    "                                metricName='silhouette', distanceMeasure='squaredEuclidean')\n",
    "\n",
    "for i in range(2,15):\n",
    "    \n",
    "    KMeans_algo=KMeans(featuresCol='scaled', k=i)\n",
    "    \n",
    "    KMeans_fit=KMeans_algo.fit(scaled_data)\n",
    "    \n",
    "    output=KMeans_fit.transform(scaled_data)\n",
    "    \n",
    "    \n",
    "    score=evaluator.evaluate(output)\n",
    "    \n",
    "    silhouette_score.append(score)\n",
    "    \n",
    "    print(f\"Clusters: {i}, Silhouette Score: {score}\")"
   ]
  },
  {
   "cell_type": "code",
   "execution_count": 60,
   "id": "81870faf",
   "metadata": {},
   "outputs": [
    {
     "data": {
      "text/plain": [
       "Text(0, 0.5, 'cost')"
      ]
     },
     "execution_count": 60,
     "metadata": {},
     "output_type": "execute_result"
    },
    {
     "data": {
      "image/png": "[encoded data removed]",
      "text/plain": [
       "<Figure size 800x600 with 1 Axes>"
      ]
     },
     "metadata": {},
     "output_type": "display_data"
    }
   ],
   "source": [
    "# Для кластеризации находим оптимальное число кластеров\n",
    "\n",
    "import matplotlib.pyplot as plt\n",
    "fig, ax = plt.subplots(1,1, figsize =(8,6))\n",
    "ax.plot(range(2,15),silhouette_score)\n",
    "ax.set_xlabel('k')\n",
    "ax.set_ylabel('cost')"
   ]
  },
  {
   "cell_type": "code",
   "execution_count": null,
   "id": "983ab2b5",
   "metadata": {},
   "outputs": [],
   "source": []
  },
  {
   "cell_type": "markdown",
   "id": "c4cefc93",
   "metadata": {},
   "source": [
    "### Pipeline"
   ]
  },
  {
   "cell_type": "code",
   "execution_count": 140,
   "id": "af406b3c",
   "metadata": {},
   "outputs": [],
   "source": [
    "pipeline = Pipeline(stages=[assemble, scale, lr, RandomForest,LogReg])\n",
    "\n",
    "pipelineModel = pipeline.fit(scaled_data)\n",
    "model = pipelineModel.transform(test_df)"
   ]
  },
  {
   "cell_type": "code",
   "execution_count": 142,
   "id": "56a59f5f",
   "metadata": {},
   "outputs": [
    {
     "data": {
      "text/plain": [
       "DataFrame[scaled: vector, claster_pred: int, rawPrediction: vector, probability: vector, prediction: double]"
      ]
     },
     "execution_count": 142,
     "metadata": {},
     "output_type": "execute_result"
    }
   ],
   "source": [
    "model"
   ]
  }
 ],
 "metadata": {
  "kernelspec": {
   "display_name": "Python 3 (ipykernel)",
   "language": "python",
   "name": "python3"
  },
  "language_info": {
   "codemirror_mode": {
    "name": "ipython",
    "version": 3
   },
   "file_extension": ".py",
   "mimetype": "text/x-python",
   "name": "python",
   "nbconvert_exporter": "python",
   "pygments_lexer": "ipython3",
   "version": "3.10.6"
  }
 },
 "nbformat": 4,
 "nbformat_minor": 5
}
